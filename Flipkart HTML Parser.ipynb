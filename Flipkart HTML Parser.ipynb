{
 "cells": [
  {
   "cell_type": "code",
   "execution_count": 10,
   "id": "725152c9",
   "metadata": {},
   "outputs": [],
   "source": [
    "import bs4, requests\n",
    "import pyperclip as pc"
   ]
  },
  {
   "cell_type": "code",
   "execution_count": 12,
   "id": "366ea4a3",
   "metadata": {},
   "outputs": [
    {
     "name": "stdout",
     "output_type": "stream",
     "text": [
      "The price of the product is ₹1,12,990\n"
     ]
    }
   ],
   "source": [
    "def getFlipkartPrice(productUrl):\n",
    "    res = requests.get(productUrl)\n",
    "    res.raise_for_status()\n",
    "    soup = bs4.BeautifulSoup(res.text, 'html.parser')\n",
    "    elems = soup.select('#container > div > div._2c7YLP.UtUXW0._6t1WkM._3HqJxg > div._1YokD2._2GoDe3 > div._1YokD2._3Mn1Gg.col-8-12 > div:nth-child(3) > div > div.dyC4hf > div.CEmiEU > div > div._30jeq3._16Jk6d')\n",
    "    return elems[0].text.strip()\n",
    "url = pc.paste()\n",
    "price = getFlipkartPrice(url)\n",
    "print('The price of the product is ' + price)"
   ]
  },
  {
   "cell_type": "code",
   "execution_count": null,
   "id": "623b790e",
   "metadata": {},
   "outputs": [],
   "source": []
  }
 ],
 "metadata": {
  "kernelspec": {
   "display_name": "Python 3 (ipykernel)",
   "language": "python",
   "name": "python3"
  },
  "language_info": {
   "codemirror_mode": {
    "name": "ipython",
    "version": 3
   },
   "file_extension": ".py",
   "mimetype": "text/x-python",
   "name": "python",
   "nbconvert_exporter": "python",
   "pygments_lexer": "ipython3",
   "version": "3.8.12"
  }
 },
 "nbformat": 4,
 "nbformat_minor": 5
}
